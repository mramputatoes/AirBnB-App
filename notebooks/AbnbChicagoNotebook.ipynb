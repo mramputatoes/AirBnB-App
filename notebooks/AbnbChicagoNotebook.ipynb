{
 "cells": [
  {
   "cell_type": "code",
   "execution_count": 66,
   "id": "charged-skiing",
   "metadata": {},
   "outputs": [],
   "source": [
    "import pandas as pd\n",
    "import numpy as np\n",
    "import matplotlib.pyplot as plt\n",
    "from category_encoders import OneHotEncoder, OrdinalEncoder\n",
    "from sklearn.ensemble import GradientBoostingRegressor\n",
    "from xgboost import XGBRegressor\n",
    "from sklearn.impute import SimpleImputer\n",
    "from sklearn.model_selection import train_test_split\n",
    "from sklearn.pipeline import make_pipeline\n",
    "from sklearn.model_selection import GridSearchCV, RandomizedSearchCV\n",
    "from sklearn.metrics import mean_absolute_error, mean_squared_error, r2_score\n",
    "from sklearn.linear_model import LinearRegression, Ridge\n",
    "from numpy.random import permutation\n",
    "from sklearn.inspection import permutation_importance\n",
    "from sklearn.ensemble import RandomForestRegressor\n",
    "from sklearn.tree import DecisionTreeRegressor\n",
    "import plotly.graph_objects as go\n",
    "import chart_studio"
   ]
  },
  {
   "cell_type": "code",
   "execution_count": 67,
   "id": "acoustic-reviewer",
   "metadata": {},
   "outputs": [],
   "source": [
    "DATA_PATH = './data/'"
   ]
  },
  {
   "cell_type": "code",
   "execution_count": 68,
   "id": "alternative-guest",
   "metadata": {},
   "outputs": [],
   "source": [
    "###DATA WRANGLING/EDA\n",
    "\n",
    "def wrangle(data):\n",
    "    df = pd.read_csv(data,\n",
    "                parse_dates=['last_scraped','host_since']\n",
    "               ).set_index('last_scraped')\n",
    "    \n",
    "    #Dropping columns with high similarity columns\n",
    "    df.drop(columns=['id','host_id','host_url','host_location',\n",
    "                    'host_about','host_response_rate','host_listings_count',\n",
    "                    'host_neighbourhood','host_total_listings_count',\n",
    "                    'calendar_last_scraped','calculated_host_listings_count',\n",
    "                    'calculated_host_listings_count_entire_homes',\n",
    "                    'calculated_host_listings_count_private_rooms',\n",
    "                    'calculated_host_listings_count_shared_rooms',\n",
    "                    'host_has_profile_pic','bathrooms','has_availability'], inplace=True)\n",
    "    \n",
    "    #Dropping columns about reviews and columns with low gini importance\n",
    "    df.drop(columns=['review_scores_accuracy','review_scores_cleanliness',\n",
    "                    'review_scores_checkin', 'review_scores_communication','review_scores_location',\n",
    "                    'review_scores_value','reviews_per_month','minimum_nights','maximum_nights',\n",
    "                    'availability_30','availability_60','availability_90',\n",
    "                    'availability_365','number_of_reviews_ltm','number_of_reviews_l30d','minimum_minimum_nights', 'maximum_minimum_nights',\n",
    "                    'minimum_maximum_nights', 'maximum_maximum_nights',\n",
    "                    'minimum_nights_avg_ntm', 'maximum_nights_avg_ntm', 'longitude', 'latitude','neighbourhood'], inplace=True)\n",
    "    \n",
    "    #Converted target as object into float\n",
    "    df['price']  = df['price'].str.strip('$')\n",
    "    df['price']  = df['price'].str.replace(',','').astype(float)\n",
    "    \n",
    "    #Dropped outliers\n",
    "    df = df.loc[df['price'] < 50000]\n",
    "    \n",
    "    numcard = 50\n",
    "\n",
    "    highcard = [col for col in df.select_dtypes(exclude='number')\n",
    "            if df[col].nunique() > numcard]\n",
    "    lowcard = [col for col in df\n",
    "            if df[col].nunique() <= 1]           \n",
    "    df.drop(columns=highcard, inplace=True)\n",
    "    df.drop(columns=lowcard, inplace=True)\n",
    "    \n",
    "    \n",
    "    #Converted t and f object type into 1 and 0\n",
    "    df.replace('t',1, inplace=True)\n",
    "    df.replace('f',0, inplace=True)\n",
    "    \n",
    "    #Preprocessed NaN values\n",
    "    df['host_response_time'].fillna('within an hour',inplace=True)\n",
    "    df['bedrooms'].fillna(1,inplace=True)\n",
    "    \n",
    "    #Dropping rows with NA values\n",
    "    df = df.dropna(axis=0, subset=['bedrooms', 'beds'])\n",
    "  \n",
    "    \n",
    "    return df"
   ]
  },
  {
   "cell_type": "code",
   "execution_count": 69,
   "id": "incident-photographer",
   "metadata": {},
   "outputs": [],
   "source": [
    "dfc = wrangle(DATA_PATH+'chicago.csv')"
   ]
  },
  {
   "cell_type": "code",
   "execution_count": 70,
   "id": "fiscal-township",
   "metadata": {
    "scrolled": true
   },
   "outputs": [],
   "source": [
    "dfc = dfc.drop(columns=['bathrooms_text','number_of_reviews','review_scores_rating','instant_bookable'])"
   ]
  },
  {
   "cell_type": "code",
   "execution_count": 71,
   "id": "exclusive-agenda",
   "metadata": {},
   "outputs": [],
   "source": [
    "df = dfc.dropna()"
   ]
  },
  {
   "cell_type": "code",
   "execution_count": 72,
   "id": "dc61d6ab",
   "metadata": {},
   "outputs": [
    {
     "name": "stdout",
     "output_type": "stream",
     "text": [
      "<class 'pandas.core.frame.DataFrame'>\n",
      "DatetimeIndex: 6107 entries, 2021-04-22 to 2021-04-21\n",
      "Data columns (total 9 columns):\n",
      " #   Column                  Non-Null Count  Dtype  \n",
      "---  ------                  --------------  -----  \n",
      " 0   host_response_time      6107 non-null   object \n",
      " 1   host_is_superhost       6107 non-null   float64\n",
      " 2   host_identity_verified  6107 non-null   float64\n",
      " 3   property_type           6107 non-null   object \n",
      " 4   room_type               6107 non-null   object \n",
      " 5   accommodates            6107 non-null   int64  \n",
      " 6   bedrooms                6107 non-null   float64\n",
      " 7   beds                    6107 non-null   float64\n",
      " 8   price                   6107 non-null   float64\n",
      "dtypes: float64(5), int64(1), object(3)\n",
      "memory usage: 477.1+ KB\n"
     ]
    }
   ],
   "source": [
    "df.info()"
   ]
  },
  {
   "cell_type": "code",
   "execution_count": 73,
   "id": "35c2b067",
   "metadata": {},
   "outputs": [
    {
     "data": {
      "text/plain": [
       "2021-04-20    2700\n",
       "2021-04-21    2332\n",
       "2021-04-19     710\n",
       "2021-04-22     352\n",
       "2021-04-23      13\n",
       "Name: last_scraped, dtype: int64"
      ]
     },
     "execution_count": 73,
     "metadata": {},
     "output_type": "execute_result"
    }
   ],
   "source": [
    "df.index.value_counts()"
   ]
  },
  {
   "cell_type": "code",
   "execution_count": 74,
   "id": "finite-vessel",
   "metadata": {},
   "outputs": [],
   "source": [
    "###SPLITTING DATA\n",
    "target = 'price'\n",
    "y = df[target]\n",
    "X = df.drop(columns=target)"
   ]
  },
  {
   "cell_type": "code",
   "execution_count": 75,
   "id": "welsh-dubai",
   "metadata": {},
   "outputs": [],
   "source": [
    "cutoff = '2021-04-22'\n",
    "mask = X.index < cutoff\n",
    "X_train, y_train = X.loc[mask], y.loc[mask]\n",
    "X_test, y_test = X.loc[~mask], y.loc[~mask]"
   ]
  },
  {
   "cell_type": "code",
   "execution_count": 76,
   "id": "rental-combination",
   "metadata": {},
   "outputs": [
    {
     "name": "stdout",
     "output_type": "stream",
     "text": [
      "Mean AirBnB Price: 164.01671891327064\n",
      "Baseline MAE: 115.1740184972268\n",
      "Baseline RMSE: 375.24334943916784\n"
     ]
    }
   ],
   "source": [
    "###ESTABLISHING BASELINE\n",
    "print('Mean AirBnB Price:', y_train.mean())\n",
    "y_pred = [y_train.mean()] * len(y_train)\n",
    "print('Baseline MAE:', mean_absolute_error(y_train, y_pred))\n",
    "print('Baseline RMSE:', mean_squared_error(y_train, y_pred, squared=False))"
   ]
  },
  {
   "cell_type": "code",
   "execution_count": 77,
   "id": "artistic-phase",
   "metadata": {},
   "outputs": [
    {
     "name": "stderr",
     "output_type": "stream",
     "text": [
      "c:\\users\\marvin\\.virtualenvs\\airbnb-tjsbnwpu\\lib\\site-packages\\category_encoders\\utils.py:21: FutureWarning: is_categorical is deprecated and will be removed in a future version.  Use is_categorical_dtype instead\n",
      "  elif pd.api.types.is_categorical(cols):\n"
     ]
    }
   ],
   "source": [
    "###BUILDING MODELS\n",
    "\n",
    "#Ridge Regressor\n",
    "\n",
    "model_rr = make_pipeline(\n",
    "    OneHotEncoder(),\n",
    "    SimpleImputer(),\n",
    "    Ridge(alpha=10)\n",
    ")\n",
    "\n",
    "model_rr.fit(X_train, y_train);    "
   ]
  },
  {
   "cell_type": "code",
   "execution_count": 78,
   "id": "antique-niagara",
   "metadata": {},
   "outputs": [
    {
     "name": "stderr",
     "output_type": "stream",
     "text": [
      "c:\\users\\marvin\\.virtualenvs\\airbnb-tjsbnwpu\\lib\\site-packages\\category_encoders\\utils.py:21: FutureWarning: is_categorical is deprecated and will be removed in a future version.  Use is_categorical_dtype instead\n",
      "  elif pd.api.types.is_categorical(cols):\n"
     ]
    }
   ],
   "source": [
    "#RandomForestRegressor model\n",
    "\n",
    "model_rf = make_pipeline(\n",
    "    OneHotEncoder(),\n",
    "    SimpleImputer(),\n",
    "    RandomForestRegressor(random_state=42)\n",
    ")\n",
    "\n",
    "model_rf.fit(X_train, y_train); "
   ]
  },
  {
   "cell_type": "code",
   "execution_count": 21,
   "id": "fresh-patrol",
   "metadata": {},
   "outputs": [
    {
     "name": "stdout",
     "output_type": "stream",
     "text": [
      "[14:17:44] WARNING: C:/Users/Administrator/workspace/xgboost-win64_release_1.3.0/src/learner.cc:541: \n",
      "Parameters: { verbose } might not be used.\n",
      "\n",
      "  This may not be accurate due to some parameters are only used in language bindings but\n",
      "  passed down to XGBoost core.  Or some parameters are not used but slip through this\n",
      "  verification. Please open an issue if you find above cases.\n",
      "\n",
      "\n"
     ]
    }
   ],
   "source": [
    "\n",
    "#XGboostRegressor model\n",
    "\n",
    "model_xgb = make_pipeline(\n",
    "    OneHotEncoder(),\n",
    "    SimpleImputer(),\n",
    "    XGBRegressor(random_state=42, \n",
    "                 n_jobs=-1,\n",
    "                 verbose=True)\n",
    ");\n",
    "\n",
    "\n",
    "model_xgb.fit(X_train, y_train);\n",
    "\n"
   ]
  },
  {
   "cell_type": "code",
   "execution_count": 79,
   "id": "given-floating",
   "metadata": {},
   "outputs": [
    {
     "name": "stdout",
     "output_type": "stream",
     "text": [
      "RIDGE REGRESSOR METRICS:\n",
      "Train MAE: 95.89187617868133\n",
      "Test MAE: 78.48947022748082\n",
      "Train RMSE: 346.11802182512616\n",
      "Test RMSE: 137.2222899498369\n",
      "Training R^2: 0.14920991870297795\n",
      "Test R^2: -0.1479669157435115\n",
      "Training Accuracy: 0.14920991870297795\n",
      "Test Accuracy: -0.1479669157435115\n",
      "\n",
      "RF REGRESSOR METRICS:\n",
      "Train MAE: 59.1846148818388\n",
      "Test MAE: 64.48897541252299\n",
      "Train RMSE: 213.55373385918443\n",
      "Test RMSE: 123.02173030706437\n",
      "Training R^2: 0.6761168676890477\n",
      "Test R^2: 0.07733571690654173\n",
      "Training Accuracy: 0.6761168676890477\n",
      "Test Accuracy: 0.07733571690654173\n"
     ]
    },
    {
     "ename": "NameError",
     "evalue": "name 'model_xgb' is not defined",
     "output_type": "error",
     "traceback": [
      "\u001b[1;31m---------------------------------------------------------------------------\u001b[0m",
      "\u001b[1;31mNameError\u001b[0m                                 Traceback (most recent call last)",
      "\u001b[1;32m<ipython-input-79-f09a509d5d4e>\u001b[0m in \u001b[0;36m<module>\u001b[1;34m\u001b[0m\n\u001b[0;32m     38\u001b[0m \u001b[1;33m\u001b[0m\u001b[0m\n\u001b[0;32m     39\u001b[0m \u001b[1;31m#XGB model metrics\u001b[0m\u001b[1;33m\u001b[0m\u001b[1;33m\u001b[0m\u001b[1;33m\u001b[0m\u001b[0m\n\u001b[1;32m---> 40\u001b[1;33m \u001b[0my_pred_train_xgb\u001b[0m \u001b[1;33m=\u001b[0m \u001b[0mmodel_xgb\u001b[0m\u001b[1;33m.\u001b[0m\u001b[0mpredict\u001b[0m\u001b[1;33m(\u001b[0m\u001b[0mX_train\u001b[0m\u001b[1;33m)\u001b[0m\u001b[1;33m\u001b[0m\u001b[1;33m\u001b[0m\u001b[0m\n\u001b[0m\u001b[0;32m     41\u001b[0m \u001b[0my_pred_test_xgb\u001b[0m \u001b[1;33m=\u001b[0m \u001b[0mmodel_xgb\u001b[0m\u001b[1;33m.\u001b[0m\u001b[0mpredict\u001b[0m\u001b[1;33m(\u001b[0m\u001b[0mX_test\u001b[0m\u001b[1;33m)\u001b[0m\u001b[1;33m\u001b[0m\u001b[1;33m\u001b[0m\u001b[0m\n\u001b[0;32m     42\u001b[0m \u001b[0mtrain_MAE_xgb\u001b[0m \u001b[1;33m=\u001b[0m \u001b[0mmean_absolute_error\u001b[0m\u001b[1;33m(\u001b[0m\u001b[0my_train\u001b[0m\u001b[1;33m,\u001b[0m \u001b[0my_pred_train_xgb\u001b[0m\u001b[1;33m)\u001b[0m\u001b[1;33m\u001b[0m\u001b[1;33m\u001b[0m\u001b[0m\n",
      "\u001b[1;31mNameError\u001b[0m: name 'model_xgb' is not defined"
     ]
    }
   ],
   "source": [
    "###CHECKING METRICS\n",
    "\n",
    "#Ridge model metrics\n",
    "y_pred_train_rr = model_rr.predict(X_train)\n",
    "y_pred_test_rr = model_rr.predict(X_test)\n",
    "train_MAE_rr = mean_absolute_error(y_train, y_pred_train_rr)\n",
    "test_MAE_rr = mean_absolute_error(y_test, y_pred_test_rr)\n",
    "train_RMSE_rr = mean_squared_error(y_train, y_pred_train_rr, squared=False)\n",
    "test_RMSE_rr = mean_squared_error(y_test, y_pred_test_rr, squared=False)\n",
    "\n",
    "print('RIDGE REGRESSOR METRICS:')\n",
    "print('Train MAE:',train_MAE_rr)\n",
    "print('Test MAE:', test_MAE_rr)\n",
    "print('Train RMSE:', train_RMSE_rr)\n",
    "print('Test RMSE:', test_RMSE_rr)\n",
    "print('Training R^2:', r2_score(y_train, model_rr.predict(X_train)))\n",
    "print('Test R^2:', r2_score(y_test, model_rr.predict(X_test)))\n",
    "print('Training Accuracy:', model_rr.score(X_train, y_train))\n",
    "print('Test Accuracy:', model_rr.score(X_test, y_test))\n",
    "\n",
    "#RF Regressor metrics\n",
    "y_pred_train_rf = model_rf.predict(X_train)\n",
    "y_pred_test_rf = model_rf.predict(X_test)\n",
    "train_MAE_rf = mean_absolute_error(y_train, y_pred_train_rf)\n",
    "test_MAE_rf = mean_absolute_error(y_test, y_pred_test_rf)\n",
    "train_RMSE_rf = mean_squared_error(y_train, y_pred_train_rf, squared=False)\n",
    "test_RMSE_rf = mean_squared_error(y_test, y_pred_test_rf, squared=False)\n",
    "print('')\n",
    "print('RF REGRESSOR METRICS:')\n",
    "print('Train MAE:',train_MAE_rf)\n",
    "print('Test MAE:', test_MAE_rf)\n",
    "print('Train RMSE:', train_RMSE_rf)\n",
    "print('Test RMSE:', test_RMSE_rf)\n",
    "print('Training R^2:', r2_score(y_train, model_rf.predict(X_train)))\n",
    "print('Test R^2:', r2_score(y_test, model_rf.predict(X_test)))\n",
    "print('Training Accuracy:', model_rf.score(X_train, y_train))\n",
    "print('Test Accuracy:', model_rf.score(X_test, y_test))\n",
    "\n",
    "#XGB model metrics\n",
    "y_pred_train_xgb = model_xgb.predict(X_train)\n",
    "y_pred_test_xgb = model_xgb.predict(X_test)\n",
    "train_MAE_xgb = mean_absolute_error(y_train, y_pred_train_xgb)\n",
    "test_MAE_xgb = mean_absolute_error(y_test, y_pred_test_xgb)\n",
    "train_RMSE_xgb = mean_squared_error(y_train, y_pred_train_xgb, squared=False)\n",
    "test_RMSE_xgb = mean_squared_error(y_test, y_pred_test_xgb, squared=False)\n",
    "print('')\n",
    "print('XGBOOST METRICS:')\n",
    "print('Train MAE:',train_MAE_xgb)\n",
    "print('Test MAE:', test_MAE_xgb)\n",
    "print('Train RMSE:', train_RMSE_xgb)\n",
    "print('Test RMSE:', test_RMSE_xgb)\n",
    "print('Training R^2:', r2_score(y_train, model_xgb.predict(X_train)))\n",
    "print('Test R^2:', r2_score(y_test, model_xgb.predict(X_test)))\n",
    "print('Training Accuracy:', model_xgb.score(X_train, y_train))\n",
    "print('Test Accuracy:', model_xgb.score(X_test, y_test))\n"
   ]
  },
  {
   "cell_type": "code",
   "execution_count": 23,
   "id": "functional-prize",
   "metadata": {},
   "outputs": [
    {
     "name": "stdout",
     "output_type": "stream",
     "text": [
      "Fitting 5 folds for each of 12 candidates, totalling 60 fits\n"
     ]
    }
   ],
   "source": [
    "###TUNING (HYPERPARAM TUNING AND COMPARING GINI IMPORTANCE AND PERMUTATION IMPORTANCE)\n",
    "\n",
    "#Hyperparam tuning for ridge model\n",
    "rr_params = {\n",
    "    'simpleimputer__strategy': ['mean', 'median'],\n",
    "    'ridge__alpha': [1,5,10,15,20,25],\n",
    "}\n",
    "\n",
    "model_rr_gs = GridSearchCV(\n",
    "    model_rr,\n",
    "    param_grid=rr_params,\n",
    "    cv=5,\n",
    "    n_jobs=-1,\n",
    "    verbose=1\n",
    ")\n",
    "\n",
    "model_rr_gs.fit(X_train, y_train);"
   ]
  },
  {
   "cell_type": "code",
   "execution_count": 80,
   "id": "retained-brief",
   "metadata": {},
   "outputs": [
    {
     "name": "stdout",
     "output_type": "stream",
     "text": [
      "Fitting 5 folds for each of 110 candidates, totalling 550 fits\n"
     ]
    },
    {
     "name": "stderr",
     "output_type": "stream",
     "text": [
      "c:\\users\\marvin\\.virtualenvs\\airbnb-tjsbnwpu\\lib\\site-packages\\category_encoders\\utils.py:21: FutureWarning: is_categorical is deprecated and will be removed in a future version.  Use is_categorical_dtype instead\n",
      "  elif pd.api.types.is_categorical(cols):\n"
     ]
    }
   ],
   "source": [
    "\n",
    "\n",
    "rf_params = {\n",
    "    'simpleimputer__strategy': ['mean', 'median'],\n",
    "    'randomforestregressor__n_estimators': [100,150,200,250,300],\n",
    "    'randomforestregressor__max_depth': range(5, 36, 3)\n",
    "}\n",
    "\n",
    "model_rf_gs = GridSearchCV(\n",
    "    model_rf,\n",
    "    param_grid=rf_params,\n",
    "    cv=5,\n",
    "    n_jobs=-1,\n",
    "    verbose=1\n",
    ")\n",
    "\n",
    "model_rf_gs.fit(X_train, y_train);\n"
   ]
  },
  {
   "cell_type": "code",
   "execution_count": 25,
   "id": "shared-alert",
   "metadata": {},
   "outputs": [
    {
     "name": "stdout",
     "output_type": "stream",
     "text": [
      "Fitting 5 folds for each of 160 candidates, totalling 800 fits\n",
      "[14:40:36] WARNING: C:/Users/Administrator/workspace/xgboost-win64_release_1.3.0/src/learner.cc:541: \n",
      "Parameters: { verbose } might not be used.\n",
      "\n",
      "  This may not be accurate due to some parameters are only used in language bindings but\n",
      "  passed down to XGBoost core.  Or some parameters are not used but slip through this\n",
      "  verification. Please open an issue if you find above cases.\n",
      "\n",
      "\n"
     ]
    }
   ],
   "source": [
    "xgb_params = {\n",
    "    'simpleimputer__strategy': ['mean', 'median'],\n",
    "    'xgbregressor__max_depth': range(3,15,3),\n",
    "    'xgbregressor__gamma': range(1,5,1),\n",
    "    'xgbregressor__n_estimators': range(5,30,5)\n",
    "}\n",
    "\n",
    "model_xgb_gs = GridSearchCV(\n",
    "    model_xgb,\n",
    "    param_grid=xgb_params,\n",
    "    cv=5,\n",
    "    n_jobs=-1,\n",
    "    verbose=1\n",
    ")\n",
    "\n",
    "model_xgb_gs.fit(X_train, y_train);\n"
   ]
  },
  {
   "cell_type": "code",
   "execution_count": 26,
   "id": "overhead-warrior",
   "metadata": {},
   "outputs": [
    {
     "name": "stdout",
     "output_type": "stream",
     "text": [
      "RIDGE REGRESSORv2 METRICS:\n",
      "Train MAE: 4658.311340822114\n",
      "Test MAE: 4533.919147781359\n",
      "Train RMSE: 6639.718790445849\n",
      "Test RMSE: 6288.551618377498\n",
      "Training R^2: 0.3632515485189397\n",
      "Test R^2: 0.3186297566148112\n",
      "\n",
      "RF REGRESSORv2 METRICS:\n",
      "Train MAE: 4626.293278999918\n",
      "Test MAE: 4650.272563888073\n",
      "Train RMSE: 6547.03991097354\n",
      "Test RMSE: 6417.435785755009\n",
      "Training R^2: 0.3809032818820852\n",
      "Test R^2: 0.29041411738141176\n",
      "\n",
      "XGBoost Regressorv2 METRICS:\n",
      "Train MAE: 4430.752888182196\n",
      "Test MAE: 4478.413078796897\n",
      "Train RMSE: 6336.498563066437\n",
      "Test RMSE: 6255.114500360102\n",
      "Training R^2: 0.4200811755072703\n",
      "Test R^2: 0.3258563767500491\n",
      "Model best score: 0.3366625586782572\n"
     ]
    }
   ],
   "source": [
    "#Ridge modelv2 metrics\n",
    "y_pred_train_rr_gs = model_rr_gs.predict(X_train)\n",
    "y_pred_test_rr_gs = model_rr_gs.predict(X_test)\n",
    "train_MAE_rr_gs = mean_absolute_error(y_train, y_pred_train_rr_gs)\n",
    "test_MAE_rr_gs = mean_absolute_error(y_test, y_pred_test_rr_gs)\n",
    "train_RMSE_rr_gs = mean_squared_error(y_train, y_pred_train_rr_gs, squared=False)\n",
    "test_RMSE_rr_gs = mean_squared_error(y_test, y_pred_test_rr_gs, squared=False)\n",
    "print('RIDGE REGRESSORv2 METRICS:')\n",
    "print('Train MAE:',train_MAE_rr_gs)\n",
    "print('Test MAE:', test_MAE_rr_gs)\n",
    "print('Train RMSE:', train_RMSE_rr_gs)\n",
    "print('Test RMSE:', test_RMSE_rr_gs)\n",
    "print('Training R^2:', r2_score(y_train, model_rr_gs.predict(X_train)))\n",
    "print('Test R^2:', r2_score(y_test, model_rr_gs.predict(X_test)))\n",
    "#RF modelv2 metrics\n",
    "y_pred_train_rf_gs = model_rf_gs.predict(X_train)\n",
    "y_pred_test_rf_gs = model_rf_gs.predict(X_test)\n",
    "train_MAE_rf_gs = mean_absolute_error(y_train, y_pred_train_rf_gs)\n",
    "test_MAE_rf_gs = mean_absolute_error(y_test, y_pred_test_rf_gs)\n",
    "train_RMSE_rf_gs = mean_squared_error(y_train, y_pred_train_rf_gs, squared=False)\n",
    "test_RMSE_rf_gs = mean_squared_error(y_test, y_pred_test_rf_gs, squared=False)\n",
    "print('')\n",
    "print('RF REGRESSORv2 METRICS:')\n",
    "print('Train MAE:',train_MAE_rf_gs)\n",
    "print('Test MAE:', test_MAE_rf_gs)\n",
    "print('Train RMSE:', train_RMSE_rf_gs)\n",
    "print('Test RMSE:', test_RMSE_rf_gs)\n",
    "print('Training R^2:', r2_score(y_train, model_rf_gs.predict(X_train)))\n",
    "print('Test R^2:', r2_score(y_test, model_rf_gs.predict(X_test)))\n",
    "\n",
    "#XGB modelv2 metrics\n",
    "y_pred_train_xgb_gs = model_xgb_gs.predict(X_train)\n",
    "y_pred_test_xgb_gs = model_xgb_gs.predict(X_test)\n",
    "train_MAE_xgb_gs = mean_absolute_error(y_train, y_pred_train_xgb_gs)\n",
    "test_MAE_xgb_gs = mean_absolute_error(y_test, y_pred_test_xgb_gs)\n",
    "train_RMSE_xgb_gs = mean_squared_error(y_train, y_pred_train_xgb_gs, squared=False)\n",
    "test_RMSE_xgb_gs = mean_squared_error(y_test, y_pred_test_xgb_gs, squared=False)\n",
    "print('')\n",
    "print('XGBoost Regressorv2 METRICS:')\n",
    "print('Train MAE:',train_MAE_xgb_gs)\n",
    "print('Test MAE:', test_MAE_xgb_gs)\n",
    "print('Train RMSE:', train_RMSE_xgb_gs)\n",
    "print('Test RMSE:', test_RMSE_xgb_gs)\n",
    "print('Training R^2:', r2_score(y_train, model_xgb_gs.predict(X_train)))\n",
    "print('Test R^2:', r2_score(y_test, model_xgb_gs.predict(X_test)))\n",
    "print('Model best score:', model_xgb_gs.best_score_)"
   ]
  },
  {
   "cell_type": "code",
   "execution_count": 27,
   "id": "premium-domestic",
   "metadata": {},
   "outputs": [
    {
     "ename": "ValueError",
     "evalue": "Length of passed values is 101, index implies 12.",
     "output_type": "error",
     "traceback": [
      "\u001b[1;31m---------------------------------------------------------------------------\u001b[0m",
      "\u001b[1;31mValueError\u001b[0m                                Traceback (most recent call last)",
      "\u001b[1;32m<ipython-input-27-3911cf9eb207>\u001b[0m in \u001b[0;36m<module>\u001b[1;34m\u001b[0m\n\u001b[0;32m      2\u001b[0m \u001b[0mimportances\u001b[0m \u001b[1;33m=\u001b[0m \u001b[0mmodel_xgb\u001b[0m\u001b[1;33m.\u001b[0m\u001b[0mnamed_steps\u001b[0m\u001b[1;33m[\u001b[0m\u001b[1;34m'xgbregressor'\u001b[0m\u001b[1;33m]\u001b[0m\u001b[1;33m.\u001b[0m\u001b[0mfeature_importances_\u001b[0m\u001b[1;33m\u001b[0m\u001b[1;33m\u001b[0m\u001b[0m\n\u001b[0;32m      3\u001b[0m \u001b[1;33m\u001b[0m\u001b[0m\n\u001b[1;32m----> 4\u001b[1;33m \u001b[0mfeat_imp\u001b[0m \u001b[1;33m=\u001b[0m \u001b[0mpd\u001b[0m\u001b[1;33m.\u001b[0m\u001b[0mSeries\u001b[0m\u001b[1;33m(\u001b[0m\u001b[0mimportances\u001b[0m\u001b[1;33m,\u001b[0m \u001b[0mindex\u001b[0m\u001b[1;33m=\u001b[0m\u001b[0mX\u001b[0m\u001b[1;33m.\u001b[0m\u001b[0mcolumns\u001b[0m\u001b[1;33m)\u001b[0m\u001b[1;33m.\u001b[0m\u001b[0msort_values\u001b[0m\u001b[1;33m(\u001b[0m\u001b[1;33m)\u001b[0m\u001b[1;33m\u001b[0m\u001b[1;33m\u001b[0m\u001b[0m\n\u001b[0m\u001b[0;32m      5\u001b[0m \u001b[0mfeat_imp\u001b[0m\u001b[1;33m.\u001b[0m\u001b[0mtail\u001b[0m\u001b[1;33m(\u001b[0m\u001b[1;36m10\u001b[0m\u001b[1;33m)\u001b[0m\u001b[1;33m.\u001b[0m\u001b[0mplot\u001b[0m\u001b[1;33m(\u001b[0m\u001b[0mkind\u001b[0m\u001b[1;33m=\u001b[0m\u001b[1;34m'barh'\u001b[0m\u001b[1;33m)\u001b[0m\u001b[1;33m\u001b[0m\u001b[1;33m\u001b[0m\u001b[0m\n\u001b[0;32m      6\u001b[0m \u001b[0mplt\u001b[0m\u001b[1;33m.\u001b[0m\u001b[0mxlabel\u001b[0m\u001b[1;33m(\u001b[0m\u001b[1;34m'Gini importance'\u001b[0m\u001b[1;33m)\u001b[0m\u001b[1;33m\u001b[0m\u001b[1;33m\u001b[0m\u001b[0m\n",
      "\u001b[1;32mc:\\users\\marvin\\.virtualenvs\\unit-2-proj-mmzadrit\\lib\\site-packages\\pandas\\core\\series.py\u001b[0m in \u001b[0;36m__init__\u001b[1;34m(self, data, index, dtype, name, copy, fastpath)\u001b[0m\n\u001b[0;32m    348\u001b[0m                 \u001b[1;32mtry\u001b[0m\u001b[1;33m:\u001b[0m\u001b[1;33m\u001b[0m\u001b[1;33m\u001b[0m\u001b[0m\n\u001b[0;32m    349\u001b[0m                     \u001b[1;32mif\u001b[0m \u001b[0mlen\u001b[0m\u001b[1;33m(\u001b[0m\u001b[0mindex\u001b[0m\u001b[1;33m)\u001b[0m \u001b[1;33m!=\u001b[0m \u001b[0mlen\u001b[0m\u001b[1;33m(\u001b[0m\u001b[0mdata\u001b[0m\u001b[1;33m)\u001b[0m\u001b[1;33m:\u001b[0m\u001b[1;33m\u001b[0m\u001b[1;33m\u001b[0m\u001b[0m\n\u001b[1;32m--> 350\u001b[1;33m                         raise ValueError(\n\u001b[0m\u001b[0;32m    351\u001b[0m                             \u001b[1;34mf\"Length of passed values is {len(data)}, \"\u001b[0m\u001b[1;33m\u001b[0m\u001b[1;33m\u001b[0m\u001b[0m\n\u001b[0;32m    352\u001b[0m                             \u001b[1;34mf\"index implies {len(index)}.\"\u001b[0m\u001b[1;33m\u001b[0m\u001b[1;33m\u001b[0m\u001b[0m\n",
      "\u001b[1;31mValueError\u001b[0m: Length of passed values is 101, index implies 12."
     ]
    }
   ],
   "source": [
    "#Gini importance\n",
    "importances = model_xgb.named_steps['xgbregressor'].feature_importances_\n",
    "\n",
    "feat_imp = pd.Series(importances, index=X.columns).sort_values()\n",
    "feat_imp.tail(10).plot(kind='barh')\n",
    "plt.xlabel('Gini importance')\n",
    "plt.ylabel('Feature')\n",
    "plt.title('Feature importance for model_xgb');"
   ]
  },
  {
   "cell_type": "code",
   "execution_count": null,
   "id": "minute-excuse",
   "metadata": {},
   "outputs": [],
   "source": [
    "#Permutation importance\n",
    "perm_imp = permutation_importance(model_xgb_gs,\n",
    "                                   X_test,\n",
    "                                   y_test,\n",
    "                                   n_jobs=-1,\n",
    "                                   random_state=42)\n",
    "\n",
    "data_ = {'importances_mean' : perm_imp['importances_mean'],\n",
    "        'importances_std' : perm_imp['importances_std']}\n",
    "\n",
    "\n",
    "permdf = pd.DataFrame(data_, index=X_test.columns)\n",
    "permdf.sort_values(by='importances_mean', inplace=True)\n",
    "\n",
    "permdf['importances_mean'].tail(10).plot(kind='barh')\n",
    "plt.xlabel('Importance (drop in accuracy)')\n",
    "plt.ylabel('Feature')\n",
    "plt.title('Permutation importance for model_xgb');"
   ]
  },
  {
   "cell_type": "code",
   "execution_count": null,
   "id": "freelance-creek",
   "metadata": {},
   "outputs": [],
   "source": [
    "###COMMUNICATING RESULTS\n",
    "\n",
    "feature = 'accommodates'\n",
    "\n",
    "#Plotting partial dependency for 'accommodates' feature\n",
    "isolate = pdp_isolate(\n",
    "    model=model_xgb,\n",
    "    dataset=X_test,\n",
    "    model_features=X_test.columns,\n",
    "    feature=feature\n",
    ")\n",
    "\n",
    "pdp_plot(isolate, feature_name=feature);"
   ]
  },
  {
   "cell_type": "code",
   "execution_count": null,
   "id": "advance-transparency",
   "metadata": {},
   "outputs": [],
   "source": [
    "#Plotting partial dependency for the first top 2 features:\n",
    "#('bedroom' and 'accomodates')\n",
    "\n",
    "top2feat = ['accommodates', 'bedrooms']\n",
    "\n",
    "interact = pdp_interact(\n",
    "    model=model_xgb,\n",
    "    dataset=X_test,\n",
    "    model_features=X_test.columns,\n",
    "    features=top2feat\n",
    ")\n",
    "\n",
    "pdp_interact_plot(interact, plot_type='grid',feature_names=top2feat);"
   ]
  },
  {
   "cell_type": "code",
   "execution_count": null,
   "id": "genuine-brave",
   "metadata": {},
   "outputs": [],
   "source": [
    "location = ['longitude', 'latitude']\n",
    "\n",
    "\n",
    "interact = pdp_interact(\n",
    "    model=model_xgb,\n",
    "    dataset=X_test,\n",
    "    model_features=X_test.columns,\n",
    "    features = location\n",
    ")\n",
    "\n",
    "pdp_interact_plot(interact, plot_type='grid',feature_names=location);"
   ]
  },
  {
   "cell_type": "code",
   "execution_count": null,
   "id": "completed-management",
   "metadata": {},
   "outputs": [],
   "source": [
    "df.corr()"
   ]
  },
  {
   "cell_type": "code",
   "execution_count": 81,
   "id": "sapphire-connecticut",
   "metadata": {},
   "outputs": [
    {
     "name": "stdout",
     "output_type": "stream",
     "text": [
      "Requirement already satisfied: joblib in c:\\users\\marvin\\.virtualenvs\\airbnb-tjsbnwpu\\lib\\site-packages (1.0.1)\n"
     ]
    }
   ],
   "source": [
    "!pip install joblib"
   ]
  },
  {
   "cell_type": "code",
   "execution_count": 82,
   "id": "searching-converter",
   "metadata": {},
   "outputs": [
    {
     "data": {
      "text/plain": [
       "['firstmodel.joblib']"
      ]
     },
     "execution_count": 82,
     "metadata": {},
     "output_type": "execute_result"
    }
   ],
   "source": [
    "from joblib import dump\n",
    "\n",
    "dump(model_rf_gs, \"firstmodel.joblib\", compress=True)"
   ]
  },
  {
   "cell_type": "code",
   "execution_count": null,
   "id": "flexible-buyer",
   "metadata": {},
   "outputs": [],
   "source": []
  }
 ],
 "metadata": {
  "kernelspec": {
   "display_name": "Python 3",
   "language": "python",
   "name": "python3"
  },
  "language_info": {
   "codemirror_mode": {
    "name": "ipython",
    "version": 3
   },
   "file_extension": ".py",
   "mimetype": "text/x-python",
   "name": "python",
   "nbconvert_exporter": "python",
   "pygments_lexer": "ipython3",
   "version": "3.8.2"
  }
 },
 "nbformat": 4,
 "nbformat_minor": 5
}
